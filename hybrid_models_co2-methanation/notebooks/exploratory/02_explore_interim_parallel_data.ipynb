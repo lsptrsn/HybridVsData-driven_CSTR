{
 "cells": [
  {
   "cell_type": "markdown",
   "id": "1470bc4b",
   "metadata": {},
   "source": [
    "## Data analysis and preparation\n",
    "\n",
    "Before we can do anything with the data, we have to inspect it and make sure, that there are no defects."
   ]
  },
  {
   "cell_type": "code",
   "execution_count": 1,
   "id": "2d2ab677",
   "metadata": {},
   "outputs": [],
   "source": [
    "import sys\n",
    "# !conda install --yes --prefix {sys.prefix} matplotlib\n",
    "# !conda install --yes --prefix {sys.prefix} missingno\n",
    "# !conda install --yes --prefix {sys.prefix} pandas\n",
    "# !pip install pandas-profiling\n",
    "# !conda install --yes --prefix {sys.prefix} seaborn\n",
    "# !conda install --yes --prefix {sys.prefix} warnings"
   ]
  },
  {
   "cell_type": "code",
   "execution_count": 2,
   "id": "96edaf4e",
   "metadata": {},
   "outputs": [],
   "source": [
    "from matplotlib.axes._axes import _log as matplotlib_axes_logger\n",
    "import matplotlib.pyplot as plt\n",
    "import numpy as np\n",
    "import pandas as pd\n",
    "# from pandas_profiling import ProfileReport\n",
    "import seaborn as sns\n",
    "sns.set_theme(style=\"whitegrid\", palette=\"colorblind\")\n",
    "import warnings\n",
    "warnings.simplefilter(action='ignore', category=FutureWarning)"
   ]
  },
  {
   "cell_type": "code",
   "execution_count": 3,
   "id": "91a68d86",
   "metadata": {},
   "outputs": [],
   "source": [
    "# load the data from the .txt file\n",
    "file_name = 'parallel_data.txt'\n",
    "input_path = '../../data/interim/'+file_name\n",
    "df = pd.read_csv(input_path)"
   ]
  },
  {
   "cell_type": "code",
   "execution_count": 4,
   "id": "1185bab0",
   "metadata": {},
   "outputs": [],
   "source": [
    "# get data analysis by pandas profiling\n",
    "# prof = ProfileReport(df)\n",
    "# profile_report_name = '02_profiling_output_'+file_name+'.html'\n",
    "# prof.to_file(output_file=profile_report_name)"
   ]
  },
  {
   "cell_type": "code",
   "execution_count": 5,
   "id": "a92ec348",
   "metadata": {},
   "outputs": [
    {
     "data": {
      "text/plain": [
       "Index(['partial pressure CH4 in bar', 'partial pressure CO2 in bar',\n",
       "       'partial pressure H2O in bar', 'partial pressure H2 in bar',\n",
       "       'inlet temperature in K', 'temperature in K', 'residence time in s',\n",
       "       'portion of product in feed', 'pl residuals'],\n",
       "      dtype='object')"
      ]
     },
     "execution_count": 5,
     "metadata": {},
     "output_type": "execute_result"
    }
   ],
   "source": [
    "# check the decoration\n",
    "df.columns"
   ]
  },
  {
   "cell_type": "code",
   "execution_count": 6,
   "id": "0dcd7798",
   "metadata": {},
   "outputs": [
    {
     "data": {
      "text/html": [
       "<div>\n",
       "<style scoped>\n",
       "    .dataframe tbody tr th:only-of-type {\n",
       "        vertical-align: middle;\n",
       "    }\n",
       "\n",
       "    .dataframe tbody tr th {\n",
       "        vertical-align: top;\n",
       "    }\n",
       "\n",
       "    .dataframe thead th {\n",
       "        text-align: right;\n",
       "    }\n",
       "</style>\n",
       "<table border=\"1\" class=\"dataframe\">\n",
       "  <thead>\n",
       "    <tr style=\"text-align: right;\">\n",
       "      <th></th>\n",
       "      <th>partial pressure CH4 in bar</th>\n",
       "      <th>partial pressure CO2 in bar</th>\n",
       "      <th>partial pressure H2O in bar</th>\n",
       "      <th>partial pressure H2 in bar</th>\n",
       "      <th>inlet temperature in K</th>\n",
       "      <th>temperature in K</th>\n",
       "      <th>residence time in s</th>\n",
       "      <th>portion of product in feed</th>\n",
       "      <th>pl residuals</th>\n",
       "    </tr>\n",
       "  </thead>\n",
       "  <tbody>\n",
       "    <tr>\n",
       "      <th>0</th>\n",
       "      <td>1.449337</td>\n",
       "      <td>1.010104</td>\n",
       "      <td>2.898673</td>\n",
       "      <td>4.040416</td>\n",
       "      <td>436.388</td>\n",
       "      <td>436.80768</td>\n",
       "      <td>0.21247</td>\n",
       "      <td>0.45932</td>\n",
       "      <td>0.017523</td>\n",
       "    </tr>\n",
       "    <tr>\n",
       "      <th>1</th>\n",
       "      <td>0.826148</td>\n",
       "      <td>0.213045</td>\n",
       "      <td>1.652296</td>\n",
       "      <td>0.852180</td>\n",
       "      <td>716.492</td>\n",
       "      <td>761.66239</td>\n",
       "      <td>0.07913</td>\n",
       "      <td>0.16226</td>\n",
       "      <td>-0.403690</td>\n",
       "    </tr>\n",
       "    <tr>\n",
       "      <th>2</th>\n",
       "      <td>2.259360</td>\n",
       "      <td>0.380666</td>\n",
       "      <td>4.518721</td>\n",
       "      <td>1.522663</td>\n",
       "      <td>615.268</td>\n",
       "      <td>629.19261</td>\n",
       "      <td>0.23162</td>\n",
       "      <td>0.19824</td>\n",
       "      <td>-0.077828</td>\n",
       "    </tr>\n",
       "    <tr>\n",
       "      <th>3</th>\n",
       "      <td>1.544868</td>\n",
       "      <td>0.356229</td>\n",
       "      <td>3.089736</td>\n",
       "      <td>1.424916</td>\n",
       "      <td>779.732</td>\n",
       "      <td>790.44815</td>\n",
       "      <td>0.36937</td>\n",
       "      <td>0.21562</td>\n",
       "      <td>-0.265096</td>\n",
       "    </tr>\n",
       "    <tr>\n",
       "      <th>4</th>\n",
       "      <td>0.330465</td>\n",
       "      <td>0.673679</td>\n",
       "      <td>0.660931</td>\n",
       "      <td>2.694715</td>\n",
       "      <td>498.620</td>\n",
       "      <td>509.24332</td>\n",
       "      <td>0.23099</td>\n",
       "      <td>0.15098</td>\n",
       "      <td>-0.041725</td>\n",
       "    </tr>\n",
       "  </tbody>\n",
       "</table>\n",
       "</div>"
      ],
      "text/plain": [
       "   partial pressure CH4 in bar  partial pressure CO2 in bar  \\\n",
       "0                     1.449337                     1.010104   \n",
       "1                     0.826148                     0.213045   \n",
       "2                     2.259360                     0.380666   \n",
       "3                     1.544868                     0.356229   \n",
       "4                     0.330465                     0.673679   \n",
       "\n",
       "   partial pressure H2O in bar  partial pressure H2 in bar  \\\n",
       "0                     2.898673                    4.040416   \n",
       "1                     1.652296                    0.852180   \n",
       "2                     4.518721                    1.522663   \n",
       "3                     3.089736                    1.424916   \n",
       "4                     0.660931                    2.694715   \n",
       "\n",
       "   inlet temperature in K  temperature in K  residence time in s  \\\n",
       "0                 436.388         436.80768              0.21247   \n",
       "1                 716.492         761.66239              0.07913   \n",
       "2                 615.268         629.19261              0.23162   \n",
       "3                 779.732         790.44815              0.36937   \n",
       "4                 498.620         509.24332              0.23099   \n",
       "\n",
       "   portion of product in feed  pl residuals  \n",
       "0                     0.45932      0.017523  \n",
       "1                     0.16226     -0.403690  \n",
       "2                     0.19824     -0.077828  \n",
       "3                     0.21562     -0.265096  \n",
       "4                     0.15098     -0.041725  "
      ]
     },
     "execution_count": 6,
     "metadata": {},
     "output_type": "execute_result"
    }
   ],
   "source": [
    "df.head(5)"
   ]
  },
  {
   "cell_type": "code",
   "execution_count": 7,
   "id": "d023adb4",
   "metadata": {},
   "outputs": [],
   "source": [
    "df_input = df.filter(items=['partial pressure CH4 in bar', 'partial pressure CO2 in bar', 'partial pressure H2O in bar',\n",
    "                            'partial pressure H2 in bar', 'inlet temperature in K', 'temperature in K',\n",
    "                            'residence time in s', 'portion of product in feed'])\n",
    "df_target = df['pl residuals']"
   ]
  },
  {
   "cell_type": "markdown",
   "id": "d7fba8e5",
   "metadata": {},
   "source": [
    "### Explore Target Variables"
   ]
  },
  {
   "cell_type": "code",
   "execution_count": 8,
   "id": "ab7bc3b6",
   "metadata": {},
   "outputs": [
    {
     "data": {
      "text/plain": [
       "count    900.000000\n",
       "mean      -0.110356\n",
       "std        0.231175\n",
       "min       -0.536899\n",
       "25%       -0.278259\n",
       "50%       -0.110981\n",
       "75%        0.005232\n",
       "max        1.009633\n",
       "Name: pl residuals, dtype: float64"
      ]
     },
     "execution_count": 8,
     "metadata": {},
     "output_type": "execute_result"
    }
   ],
   "source": [
    "# use describe to get a summary of the data\n",
    "df_target.describe()"
   ]
  },
  {
   "cell_type": "code",
   "execution_count": 11,
   "id": "9a110403",
   "metadata": {},
   "outputs": [
    {
     "name": "stderr",
     "output_type": "stream",
     "text": [
      "/tmp/ipykernel_353035/3173292243.py:9: UserWarning: \n",
      "\n",
      "`distplot` is a deprecated function and will be removed in seaborn v0.14.0.\n",
      "\n",
      "Please adapt your code to use either `displot` (a figure-level function with\n",
      "similar flexibility) or `histplot` (an axes-level function for histograms).\n",
      "\n",
      "For a guide to updating your code to use the new functions, please see\n",
      "https://gist.github.com/mwaskom/de44147ed2974457ad6372750bbe5751\n",
      "\n",
      "  sns.distplot(df_target, bins=20, kde=True, color=mpi_red);\n"
     ]
    },
    {
     "data": {
      "image/png": "[encoded data removed]",
      "text/plain": [
       "<Figure size 720x432 with 1 Axes>"
      ]
     },
     "metadata": {
      "needs_background": "light"
     },
     "output_type": "display_data"
    }
   ],
   "source": [
    "# histogram\n",
    "mpi_blue = (51/255, 165/255, 195/255)\n",
    "mpi_red = (120/255, 0/255, 75/255)\n",
    "mpi_green = (0/255, 118/255, 1/255)\n",
    "mpi_grey = (56/255, 60/255, 60/255)\n",
    "import scipy.stats as stats\n",
    "from matplotlib.ticker import MaxNLocator\n",
    "plt.figure(figsize=(10, 6))\n",
    "sns.distplot(df_target, bins=20, kde=True, color=mpi_red);\n",
    "# Set a maximum number of ticks for the x-axis\n",
    "max_ticks = 4  # Adjust this value to control the number of ticks\n",
    "plt.gca().xaxis.set_major_locator(MaxNLocator(integer=False, nbins=max_ticks))\n",
    "max_ticks = 4  # Adjust this value to control the number of ticks\n",
    "plt.gca().yaxis.set_major_locator(MaxNLocator(integer=False, nbins=max_ticks))\n",
    "plt.savefig('PL_density.svg', bbox_inches=\"tight\")\n",
    "plt.show()"
   ]
  },
  {
   "cell_type": "code",
   "execution_count": null,
   "id": "46fd756c",
   "metadata": {},
   "outputs": [],
   "source": [
    "# boxplot\n",
    "sns.boxplot(df_target)"
   ]
  },
  {
   "cell_type": "markdown",
   "id": "2fab5d69",
   "metadata": {},
   "source": [
    "### Explore Input Variables"
   ]
  },
  {
   "cell_type": "code",
   "execution_count": null,
   "id": "d2f46ac6",
   "metadata": {},
   "outputs": [],
   "source": [
    "# use describe to get a summary of the data\n",
    "df_input.describe()"
   ]
  },
  {
   "cell_type": "code",
   "execution_count": null,
   "id": "9492a34f",
   "metadata": {},
   "outputs": [],
   "source": [
    "#histogram\n",
    "fig, axs = plt.subplots(nrows=2, ncols=4,figsize=(12,10))\n",
    "fig.tight_layout()\n",
    "sns.distplot(df['partial pressure CH4 in bar'], ax=axs[0, 0]);\n",
    "sns.distplot(df['partial pressure CO2 in bar'], ax=axs[0, 1]);\n",
    "sns.distplot(df['partial pressure H2O in bar'], ax=axs[0, 2]);\n",
    "sns.distplot(df['partial pressure H2 in bar'], ax=axs[0, 3]);\n",
    "sns.distplot(df['inlet temperature in K'], ax=axs[1, 0]);\n",
    "sns.distplot(df['temperature in K'], ax=axs[1, 1]);\n",
    "sns.distplot(df['residence time in s'], ax=axs[1, 2]);\n",
    "sns.distplot(df['portion of product in feed'], ax=axs[1, 3]);"
   ]
  },
  {
   "cell_type": "markdown",
   "id": "bb9604f8",
   "metadata": {},
   "source": [
    "### Exploring Target-Input Relationships"
   ]
  },
  {
   "cell_type": "code",
   "execution_count": null,
   "id": "fd68650a",
   "metadata": {},
   "outputs": [],
   "source": [
    "matplotlib_axes_logger.setLevel('ERROR')\n",
    "#scatter plot pressure/ mass fraction CO2\n",
    "fig, axs = plt.subplots(nrows=2, ncols=4, figsize=(12, 10))\n",
    "fig.tight_layout()\n",
    "y_text = 'pl residuals'\n",
    "# CH4 inlet partial pressure\n",
    "var_pCH4 = 'partial pressure CH4 in bar'\n",
    "data = pd.concat([df_target, df[var_pCH4]], axis=1)\n",
    "data.plot.scatter(x=var_pCH4, y=y_text, ax=axs[0, 0]);\n",
    "# CO2 inlet partial pressure\n",
    "var_pCO2 = 'partial pressure CO2 in bar'\n",
    "data = pd.concat([df_target, df[var_pCO2]], axis=1)\n",
    "data.plot.scatter(x=var_pCO2, y=y_text, ax=axs[0, 1]);\n",
    "# H2O inlet partial pressure\n",
    "var_pH2O = 'partial pressure H2O in bar'\n",
    "data = pd.concat([df_target, df[var_pH2O]], axis=1)\n",
    "data.plot.scatter(x=var_pH2O, y=y_text, ax=axs[0, 2]);\n",
    "# H2 inlet partial pressuren\n",
    "var_pH2 = 'partial pressure H2 in bar'\n",
    "data = pd.concat([df_target, df[var_pH2]], axis=1)\n",
    "data.plot.scatter(x=var_pH2, y=y_text, ax=axs[0, 3]);\n",
    "# Inlet Temperature\n",
    "var_T_in = 'inlet temperature in K'\n",
    "data = pd.concat([df_target, df[var_T_in]], axis=1)\n",
    "data.plot.scatter(x=var_T_in, y=y_text, ax=axs[1, 0]);\n",
    "# Temperature\n",
    "var_T = 'temperature in K'\n",
    "data = pd.concat([df_target, df[var_T]], axis=1)\n",
    "data.plot.scatter(x=var_T, y=y_text, ax=axs[1, 1]);\n",
    "# Residence Time\n",
    "var_t = 'residence time in s'\n",
    "data = pd.concat([df_target, df[var_t]], axis=1)\n",
    "data.plot.scatter(x=var_t, y=y_text, ax=axs[1, 2]);\n",
    "# Product in Feed\n",
    "var_product = 'portion of product in feed'\n",
    "data = pd.concat([df_target, df[var_product]], axis=1)\n",
    "data.plot.scatter(x=var_product, y=y_text, ax=axs[1, 3]);"
   ]
  },
  {
   "cell_type": "code",
   "execution_count": null,
   "id": "d856a1c7",
   "metadata": {},
   "outputs": [],
   "source": [
    "fig, axs = plt.subplots(nrows=2, ncols=4, figsize=(12, 10))\n",
    "fig.tight_layout()\n",
    "sns.boxplot(df['partial pressure CH4 in bar'], ax=axs[0, 0]);\n",
    "sns.boxplot(df['partial pressure CO2 in bar'], ax=axs[0, 1]);\n",
    "sns.boxplot(df['partial pressure H2O in bar'], ax=axs[0, 2]);\n",
    "sns.boxplot(df['partial pressure H2 in bar'], ax=axs[0, 3]);\n",
    "sns.boxplot(df['inlet temperature in K'], ax=axs[1, 0]);\n",
    "sns.boxplot(df['temperature in K'], ax=axs[1, 1]);\n",
    "sns.boxplot(df['residence time in s'], ax=axs[1, 2]);\n",
    "sns.boxplot(df['portion of product in feed'], ax=axs[1, 3]);"
   ]
  },
  {
   "cell_type": "code",
   "execution_count": null,
   "id": "61e68e44",
   "metadata": {},
   "outputs": [],
   "source": [
    "# correlation matrix \n",
    "corrmat = df.corr()\n",
    "f, ax = plt.subplots(figsize=(12, 9))\n",
    "sns.heatmap(corrmat, cbar=True, annot=True, vmin=-1, vmax=1, square=True, cmap='coolwarm');"
   ]
  },
  {
   "cell_type": "code",
   "execution_count": null,
   "id": "957202e8",
   "metadata": {},
   "outputs": [],
   "source": []
  }
 ],
 "metadata": {
  "kernelspec": {
   "display_name": "Python 3 (ipykernel)",
   "language": "python",
   "name": "python3"
  },
  "language_info": {
   "codemirror_mode": {
    "name": "ipython",
    "version": 3
   },
   "file_extension": ".py",
   "mimetype": "text/x-python",
   "name": "python",
   "nbconvert_exporter": "python",
   "pygments_lexer": "ipython3",
   "version": "3.10.4"
  }
 },
 "nbformat": 4,
 "nbformat_minor": 5
}
