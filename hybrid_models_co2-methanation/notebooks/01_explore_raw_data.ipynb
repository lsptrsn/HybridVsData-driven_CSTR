{
 "cells": [
  {
   "cell_type": "markdown",
   "id": "1470bc4b",
   "metadata": {},
   "source": [
    "## Data analysis and preparation\n",
    "\n",
    "Before we can do anything with the data, we have to inspect it and make sure, that there are no defects."
   ]
  },
  {
   "cell_type": "code",
   "execution_count": null,
   "id": "bba57213",
   "metadata": {},
   "outputs": [],
   "source": [
    "import sys\n",
    "# !conda install --yes --prefix {sys.prefix} matplotlib\n",
    "# !conda install --yes --prefix {sys.prefix} missingno\n",
    "# !conda install --yes --prefix {sys.prefix} pandas\n",
    "# !pip install pandas-profiling\n",
    "# !conda install --yes --prefix {sys.prefix} seaborn\n",
    "# !conda install --yes --prefix {sys.prefix} warnings"
   ]
  },
  {
   "cell_type": "code",
   "execution_count": null,
   "id": "a3a27ae0",
   "metadata": {},
   "outputs": [],
   "source": [
    "from matplotlib.axes._axes import _log as matplotlib_axes_logger\n",
    "import matplotlib.pyplot as plt\n",
    "import missingno\n",
    "import pandas as pd\n",
    "# from pandas_profiling import ProfileReport\n",
    "import seaborn as sns\n",
    "sns.set_theme(style=\"whitegrid\", palette=\"colorblind\")\n",
    "import warnings\n",
    "warnings.simplefilter(action='ignore', category=FutureWarning)"
   ]
  },
  {
   "cell_type": "code",
   "execution_count": null,
   "id": "91a68d86",
   "metadata": {},
   "outputs": [],
   "source": [
    "# load the data from the .txt file\n",
    "file_name = 'data.txt'\n",
    "# file_name = 'test/data_test.txt'\n",
    "input_path = '../../data/raw/'+file_name\n",
    "df = pd.read_csv(input_path)"
   ]
  },
  {
   "cell_type": "code",
   "execution_count": null,
   "id": "1185bab0",
   "metadata": {},
   "outputs": [],
   "source": [
    "# get data analysis by pandas profiling\n",
    "# prof = ProfileReport(df)\n",
    "# profile_report_name = '01_profiling_output_'+file_name+'.html'\n",
    "# prof.to_file(output_file=profile_report_name)"
   ]
  },
  {
   "cell_type": "code",
   "execution_count": null,
   "id": "a92ec348",
   "metadata": {},
   "outputs": [],
   "source": [
    "# check the decoration\n",
    "df.columns"
   ]
  },
  {
   "cell_type": "code",
   "execution_count": null,
   "id": "0dcd7798",
   "metadata": {},
   "outputs": [],
   "source": [
    "df.head(5)"
   ]
  },
  {
   "cell_type": "code",
   "execution_count": null,
   "id": "d023adb4",
   "metadata": {},
   "outputs": [],
   "source": [
    "df_input = df.filter(items=['pressure in bar', 'inlet temperature in K', 'temperature in K', 'residence time in s', 'portion of product in feed'])\n",
    "df_target = df.filter(regex='conversion CO2')"
   ]
  },
  {
   "cell_type": "markdown",
   "id": "d7fba8e5",
   "metadata": {},
   "source": [
    "### Explore Target Variables"
   ]
  },
  {
   "cell_type": "code",
   "execution_count": null,
   "id": "ab7bc3b6",
   "metadata": {},
   "outputs": [],
   "source": [
    "# use describe to get a summary of the data\n",
    "df_target.describe()"
   ]
  },
  {
   "cell_type": "code",
   "execution_count": null,
   "id": "9a110403",
   "metadata": {},
   "outputs": [],
   "source": [
    "# histogram\n",
    "mpi_blue = (51/255, 165/255, 195/255)\n",
    "mpi_red = (120/255, 0/255, 75/255)\n",
    "mpi_green = (0/255, 118/255, 1/255)\n",
    "mpi_grey = (56/255, 60/255, 60/255)\n",
    "import scipy.stats as stats\n",
    "from matplotlib.ticker import MaxNLocator\n",
    "plt.figure(figsize=(10, 6))\n",
    "sns.distplot(df['conversion CO2'], bins=20, kde=True, color=mpi_blue);\n",
    "# Set a maximum number of ticks for the x-axis\n",
    "max_ticks = 6  # Adjust this value to control the number of ticks\n",
    "plt.gca().xaxis.set_major_locator(MaxNLocator(integer=False, nbins=max_ticks))\n",
    "max_ticks = 6  # Adjust this value to control the number of ticks\n",
    "plt.gca().yaxis.set_major_locator(MaxNLocator(integer=True, nbins=max_ticks))\n",
    "plt.savefig('X_CO2_density.svg', bbox_inches=\"tight\")\n",
    "plt.show()"
   ]
  },
  {
   "cell_type": "code",
   "execution_count": null,
   "id": "bd5b9889",
   "metadata": {},
   "outputs": [],
   "source": [
    "# histogram\n",
    "mpi_blue = (51/255, 165/255, 195/255)\n",
    "import scipy.stats as stats\n",
    "plt.figure()\n",
    "sns.distplot(df['temperature in K'], kde=True, color=mpi_blue);\n",
    "plt.savefig('temp_density.svg', bbox_inches=\"tight\")\n",
    "plt.show()"
   ]
  },
  {
   "cell_type": "code",
   "execution_count": null,
   "id": "46fd756c",
   "metadata": {},
   "outputs": [],
   "source": [
    "# boxplot\n",
    "sns.boxplot(df['conversion CO2'])"
   ]
  },
  {
   "cell_type": "markdown",
   "id": "2fab5d69",
   "metadata": {},
   "source": [
    "### Explore Input Variables"
   ]
  },
  {
   "cell_type": "code",
   "execution_count": null,
   "id": "d2f46ac6",
   "metadata": {},
   "outputs": [],
   "source": [
    "# use describe to get a summary of the data\n",
    "df_input.describe()"
   ]
  },
  {
   "cell_type": "code",
   "execution_count": null,
   "id": "9492a34f",
   "metadata": {},
   "outputs": [],
   "source": [
    "#histogram\n",
    "fig, axs = plt.subplots(nrows=1, ncols=5,figsize=(12,6.1))\n",
    "fig.tight_layout()\n",
    "sns.distplot(df['pressure in bar'], ax=axs[0]);\n",
    "sns.distplot(df['inlet temperature in K'], ax=axs[1]);\n",
    "sns.distplot(df['temperature in K'], ax=axs[2]);\n",
    "sns.distplot(df['residence time in s'], ax=axs[3]);\n",
    "sns.distplot(df['portion of product in feed'], ax=axs[4]);"
   ]
  },
  {
   "cell_type": "markdown",
   "id": "bb9604f8",
   "metadata": {},
   "source": [
    "### Exploring Target-Input Relationships"
   ]
  },
  {
   "cell_type": "code",
   "execution_count": null,
   "id": "fd68650a",
   "metadata": {},
   "outputs": [],
   "source": [
    "matplotlib_axes_logger.setLevel('ERROR')\n",
    "#scatter plot pressure/ mass fraction CO2\n",
    "fig, axs = plt.subplots(nrows=1, ncols=5, figsize=(12, 6.1))\n",
    "fig.tight_layout()\n",
    "# pressure\n",
    "var_pressure = 'pressure in bar'\n",
    "data = pd.concat([df['conversion CO2'], df[var_pressure]], axis=1)\n",
    "data.plot.scatter(x=var_pressure, y='conversion CO2', ylim=(-0.1,1), ax=axs[0]);\n",
    "# inlet temperature\n",
    "var_temp_in = 'inlet temperature in K'\n",
    "data = pd.concat([df['conversion CO2'], df[var_temp_in]], axis=1)\n",
    "data.plot.scatter(x=var_temp_in, y='conversion CO2', ylim=(-0.1,1), ax=axs[1]);\n",
    "# temperature\n",
    "var_temp = 'temperature in K'\n",
    "data = pd.concat([df['conversion CO2'], df[var_temp]], axis=1)\n",
    "data.plot.scatter(x=var_temp, y='conversion CO2', ylim=(-0.1,1), ax=axs[2]);\n",
    "# velocity\n",
    "var_velocity = 'residence time in s'\n",
    "data = pd.concat([df['conversion CO2'], df[var_velocity]], axis=1)\n",
    "data.plot.scatter(x=var_velocity, y='conversion CO2', ylim=(-0.1,1), ax=axs[3]);\n",
    "# reflux ratio\n",
    "var_reflux= 'portion of product in feed'\n",
    "data = pd.concat([df['conversion CO2'], df[var_reflux]], axis=1)\n",
    "data.plot.scatter(x=var_reflux, y='conversion CO2', ylim=(-0.1,1), ax=axs[4]);"
   ]
  },
  {
   "cell_type": "code",
   "execution_count": null,
   "id": "d856a1c7",
   "metadata": {},
   "outputs": [],
   "source": [
    "fig, axs = plt.subplots(nrows=1, ncols=5,figsize=(12,6.1))\n",
    "fig.tight_layout()\n",
    "sns.boxplot(df['pressure in bar'], ax=axs[0]);\n",
    "sns.boxplot(df['inlet temperature in K'], ax=axs[1]);\n",
    "sns.boxplot(df['temperature in K'], ax=axs[2]);\n",
    "sns.boxplot(df['residence time in s'], ax=axs[3]);\n",
    "sns.boxplot(df['portion of product in feed'], ax=axs[4]);"
   ]
  },
  {
   "cell_type": "code",
   "execution_count": null,
   "id": "61e68e44",
   "metadata": {},
   "outputs": [],
   "source": [
    "# correlation matrix\n",
    "import matplotlib.colors as mc\n",
    "mpi_blue = (51/255, 165/255, 195/255) # #33a5c3\n",
    "mpi_red = (120/255, 0/255, 75/255) # #78004b\n",
    "mpi_grey = (230/255, 230/255, 230/255) # #87878d\n",
    "colors=[mpi_blue, mpi_grey, mpi_red]\n",
    "div_palette = mc.LinearSegmentedColormap.from_list(\"mycmap\", colors, gamma=0.5)\n",
    "corrmat = df.corr()\n",
    "f, ax = plt.subplots(figsize=(12, 9))\n",
    "sns.heatmap(corrmat, cbar=True, annot=True, vmin=-0.3333, vmax=1, square=True, cmap=div_palette, annot_kws={\"size\":15});\n",
    "plt.savefig('correlation_matrix.svg'  , bbox_inches=\"tight\")\n",
    "plt.show()"
   ]
  },
  {
   "cell_type": "markdown",
   "id": "ab4304f8",
   "metadata": {},
   "source": [
    "### Missing Data"
   ]
  },
  {
   "cell_type": "code",
   "execution_count": null,
   "id": "1cd04cb4",
   "metadata": {},
   "outputs": [],
   "source": [
    "#missing data\n",
    "total = df.isnull().sum().sort_values(ascending=False)\n",
    "percent = (df.isnull().sum()/df.isnull().count()).sort_values(ascending=False)\n",
    "missing_data = pd.concat([total, percent], axis=1, keys=['Total', 'Percent'])\n",
    "missing_data.head(20)"
   ]
  },
  {
   "cell_type": "code",
   "execution_count": null,
   "id": "1b6cf7ee",
   "metadata": {},
   "outputs": [],
   "source": [
    "# generate preview of entries with null values\n",
    "if df.isnull().any(axis=None):\n",
    "    print(\"\\nPreview of data with null values:\\nxxxxxxxxxxxxx\")\n",
    "    print(df[df.isnull().any(axis=1)].head(3))\n",
    "    missingno.matrix(df)\n",
    "    plt.show()"
   ]
  },
  {
   "cell_type": "markdown",
   "id": "43c614c3",
   "metadata": {},
   "source": [
    "### Duplicated Entries"
   ]
  },
  {
   "cell_type": "code",
   "execution_count": null,
   "id": "6cdbbb9b",
   "metadata": {},
   "outputs": [],
   "source": [
    "# generate count statistics of duplicate entries\n",
    "if len(df[df.duplicated()]) > 0:\n",
    "    print(\"No. of duplicated entries: \", len(df[df.duplicated()]))\n",
    "    print(df[df.duplicated(keep=False)].sort_values(by=list(df.columns)).head())\n",
    "else:\n",
    "    print(\"No duplicated entries found\")"
   ]
  },
  {
   "cell_type": "markdown",
   "id": "26631e32",
   "metadata": {},
   "source": [
    "### Anomaly detection"
   ]
  },
  {
   "cell_type": "code",
   "execution_count": null,
   "id": "e5356649",
   "metadata": {},
   "outputs": [],
   "source": [
    "# Values smaller 0\n",
    "df_input[df_input <= 0].count()"
   ]
  },
  {
   "cell_type": "code",
   "execution_count": null,
   "id": "f801ae69",
   "metadata": {},
   "outputs": [],
   "source": []
  }
 ],
 "metadata": {
  "kernelspec": {
   "display_name": "Python 3 (ipykernel)",
   "language": "python",
   "name": "python3"
  },
  "language_info": {
   "codemirror_mode": {
    "name": "ipython",
    "version": 3
   },
   "file_extension": ".py",
   "mimetype": "text/x-python",
   "name": "python",
   "nbconvert_exporter": "python",
   "pygments_lexer": "ipython3",
   "version": "3.10.4"
  }
 },
 "nbformat": 4,
 "nbformat_minor": 5
}
